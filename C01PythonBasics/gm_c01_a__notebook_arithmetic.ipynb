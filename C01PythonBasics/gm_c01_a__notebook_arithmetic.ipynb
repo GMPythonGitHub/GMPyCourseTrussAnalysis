{
 "cells": [
  {
   "cell_type": "code",
   "execution_count": null,
   "metadata": {
    "collapsed": true,
    "ExecuteTime": {
     "start_time": "2023-04-19T08:42:11.893919Z",
     "end_time": "2023-04-19T08:42:11.902307Z"
    }
   },
   "outputs": [],
   "source": [
    "# gm_c01_a__notebook_arithmetic: coded by Kinya MIURA 230410\n",
    "# -----------------------------------------------------------------------------\n",
    "print('*** arithmetic operations and Python basics ***')\n",
    "print('# -----------------------------------------------------------------------------')\n"
   ]
  },
  {
   "cell_type": "code",
   "execution_count": null,
   "outputs": [],
   "source": [
    "# -----------------------------------------------------------------------------\n",
    "print('## --- block_a: operating arithmetic operations ---')\n",
    "a, b = 3, 2\n",
    "add, sub, mul, div = a+b, a-b, a*b, a/b  # four variables\n",
    "print('add, sub, mul, div = ', add, sub, mul, div)\n",
    "print('(add-sub)/2, (sum-sub)/2 = ', (add+sub) / 2, (add-sub) / 2)\n",
    "result = a+b, a-b, a*b, a/b  # variable as 'tuple'\n",
    "print('result = ', result)\n",
    "print('(result[0]+result[1])/2 = ', (result[0]+result[1])/2)\n",
    "print('(result[0]-result[1])/2 = ', (result[0]-result[1])/2)\n"
   ],
   "metadata": {
    "collapsed": false,
    "ExecuteTime": {
     "start_time": "2023-04-19T08:42:11.904307Z",
     "end_time": "2023-04-19T08:42:11.915743Z"
    }
   }
  },
  {
   "cell_type": "code",
   "execution_count": null,
   "outputs": [],
   "source": [
    "# -----------------------------------------------------------------------------\n",
    "print(\"## --- block_b: using 'function' ---\")\n",
    "def func(n):  # number, square and cubic as 'tuple'\n",
    "    sqr, cub = n*n, n*n*n  # calculating square and cube\n",
    "    return n, n*n, n*n*n  # returning three numbers\n",
    "print('func(1) = ', func(1))\n",
    "print('func(2) = ', func(2))\n",
    "print('func(3) = ', func(3))\n"
   ],
   "metadata": {
    "collapsed": false,
    "ExecuteTime": {
     "start_time": "2023-04-19T08:42:11.916742Z",
     "end_time": "2023-04-19T08:42:11.993211Z"
    }
   }
  },
  {
   "cell_type": "code",
   "execution_count": null,
   "outputs": [],
   "source": [
    "# -----------------------------------------------------------------------------\n",
    "print(\"## --- block_c: using 'for-loop' ---\")\n",
    "ss = 0\n",
    "for n in range(5):  # counting up n = 0 -> (5-1)\n",
    "    ss += n\n",
    "    print('(n, n*n, n*n*n), s = ', func(n), ss)  # printing results\n"
   ],
   "metadata": {
    "collapsed": false,
    "ExecuteTime": {
     "start_time": "2023-04-19T08:42:17.343122Z",
     "end_time": "2023-04-19T08:42:17.354843Z"
    }
   }
  },
  {
   "cell_type": "code",
   "execution_count": null,
   "outputs": [],
   "source": [
    "# -----------------------------------------------------------------------------\n",
    "print(\"## --- block_d: using 'if-structure' ---\")\n",
    "a, b, c = 1, 4, 5\n",
    "print('a, b, c = ', a, b, c)\n",
    "if a >= b + c:\n",
    "    print('a >= b + c')\n",
    "if b >= c + a:\n",
    "    print('b >= c + a')\n",
    "if c >= a + b:\n",
    "    print('c >= a + b')\n"
   ],
   "metadata": {
    "collapsed": false,
    "ExecuteTime": {
     "start_time": "2023-04-19T08:42:20.534055Z",
     "end_time": "2023-04-19T08:42:20.542055Z"
    }
   }
  },
  {
   "cell_type": "code",
   "execution_count": null,
   "outputs": [],
   "source": [],
   "metadata": {
    "collapsed": false
   }
  }
 ],
 "metadata": {
  "kernelspec": {
   "display_name": "Python 3",
   "language": "python",
   "name": "python3"
  },
  "language_info": {
   "codemirror_mode": {
    "name": "ipython",
    "version": 2
   },
   "file_extension": ".py",
   "mimetype": "text/x-python",
   "name": "python",
   "nbconvert_exporter": "python",
   "pygments_lexer": "ipython2",
   "version": "2.7.6"
  }
 },
 "nbformat": 4,
 "nbformat_minor": 0
}
