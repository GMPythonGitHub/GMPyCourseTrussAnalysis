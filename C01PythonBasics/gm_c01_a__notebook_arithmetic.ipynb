{
 "cells": [
  {
   "cell_type": "code",
   "execution_count": 16,
   "metadata": {
    "collapsed": true,
    "ExecuteTime": {
     "end_time": "2023-10-22T20:22:30.227446300Z",
     "start_time": "2023-10-22T20:22:30.222937800Z"
    }
   },
   "outputs": [
    {
     "name": "stdout",
     "output_type": "stream",
     "text": [
      "*** arithmetic operations and Python basics ***\n",
      "# -----------------------------------------------------------------------------\n"
     ]
    }
   ],
   "source": [
    "## gm_c01_a__notebook_arithmetic: coded by Kinya MIURA 230410\n",
    "# -----------------------------------------------------------------------------\n",
    "print('*** arithmetic operations and Python basics ***')\n",
    "print('# -----------------------------------------------------------------------------')\n"
   ]
  },
  {
   "cell_type": "code",
   "execution_count": 17,
   "outputs": [
    {
     "name": "stdout",
     "output_type": "stream",
     "text": [
      "## --- section_a: operating arithmetic operations --- ##\n",
      "sum, sub, mul, div =  5 1 6 1.5\n",
      "(sum - sub) / 2, (sum - sub) / 2 =  3.0 2.0\n",
      "result =  (5, 1, 6, 1.5)\n",
      "(result[0] + result[1]) / 2 =  3.0\n",
      "(result[0] - result[1]) / 2 =  2.0\n"
     ]
    }
   ],
   "source": [
    "# -----------------------------------------------------------------------------\n",
    "print('## --- section_a: operating arithmetic operations --- ##')\n",
    "aa, bb = 3, 2\n",
    "smm, sub, mul, div = aa + bb, aa - bb, aa * bb, aa / bb  # four variables\n",
    "print('sum, sub, mul, div = ', smm, sub, mul, div)\n",
    "print('(sum - sub) / 2, (sum - sub) / 2 = ', (smm + sub) / 2, (smm - sub) / 2)\n",
    "result = aa + bb, aa - bb, aa * bb, aa / bb  # variable as 'tuple'\n",
    "print('result = ', result)\n",
    "print('(result[0] + result[1]) / 2 = ', (result[0] + result[1]) / 2)\n",
    "print('(result[0] - result[1]) / 2 = ', (result[0] - result[1]) / 2)\n"
   ],
   "metadata": {
    "collapsed": false,
    "ExecuteTime": {
     "end_time": "2023-10-22T20:22:30.238622400Z",
     "start_time": "2023-10-22T20:22:30.228445100Z"
    }
   }
  },
  {
   "cell_type": "code",
   "execution_count": 18,
   "outputs": [
    {
     "name": "stdout",
     "output_type": "stream",
     "text": [
      "## --- section_b: using 'function' --- ##\n",
      "func(1) =  (1, 1, 1)\n",
      "func(2) =  (2, 4, 8)\n",
      "func(5) =  (5, 25, 125)\n"
     ]
    }
   ],
   "source": [
    "# -----------------------------------------------------------------------------\n",
    "print(\"## --- section_b: using 'function' --- ##\")\n",
    "def func(nn):  # number, square and cubic as 'tuple'\n",
    "    sqr, cub = nn * nn, nn * nn * nn  # calculating square and cubic\n",
    "    return nn, sqr, cub  # returning 'tuple' including three numbers\n",
    "print('func(1) = ', func(1))\n",
    "print('func(2) = ', func(2))\n",
    "print('func(5) = ', func(5))\n"
   ],
   "metadata": {
    "collapsed": false,
    "ExecuteTime": {
     "end_time": "2023-10-22T20:22:30.256431100Z",
     "start_time": "2023-10-22T20:22:30.238622400Z"
    }
   }
  },
  {
   "cell_type": "code",
   "execution_count": 19,
   "outputs": [
    {
     "name": "stdout",
     "output_type": "stream",
     "text": [
      "## --- section_c: using 'for-loop' ---\n",
      "(nn, square, cubic) =  (0, 0, 0) , accum =  0\n",
      "(nn, square, cubic) =  (1, 1, 1) , accum =  1\n",
      "(nn, square, cubic) =  (2, 4, 8) , accum =  3\n",
      "(nn, square, cubic) =  (3, 9, 27) , accum =  6\n",
      "(nn, square, cubic) =  (4, 16, 64) , accum =  10\n"
     ]
    }
   ],
   "source": [
    "# -----------------------------------------------------------------------------\n",
    "print(\"## --- section_c: using 'for-loop' ---\")\n",
    "sum = 0\n",
    "for nn in range(5):  # counting up nn = 0 -> (5-1)\n",
    "    sum += nn\n",
    "    print('(nn, square, cubic) = ', func(nn), 'sum = ', sum)  # printing results\n"
   ],
   "metadata": {
    "collapsed": false,
    "ExecuteTime": {
     "end_time": "2023-10-22T20:22:30.262165100Z",
     "start_time": "2023-10-22T20:22:30.249256200Z"
    }
   }
  },
  {
   "cell_type": "code",
   "execution_count": 20,
   "outputs": [
    {
     "name": "stdout",
     "output_type": "stream",
     "text": [
      "## --- section_d: using 'if-structure' ---\n",
      "aa, bb, cc =  1 4 5\n",
      "cc >= aa + bb\n"
     ]
    }
   ],
   "source": [
    "# -----------------------------------------------------------------------------\n",
    "print(\"## --- section_d: using 'if-structure' ---\")\n",
    "aa, bb, cc = 1, 4, 5\n",
    "print('aa, bb, cc = ', aa, bb, cc)\n",
    "if aa >= bb + cc:\n",
    "    print('aa >= bb + cc')\n",
    "elif bb >= cc + aa:\n",
    "    print('bb >= cc + aa')\n",
    "elif cc >= aa + bb:\n",
    "    print('cc >= aa + bb')\n",
    "else:\n",
    "    print('triangle is formable')\n"
   ],
   "metadata": {
    "collapsed": false,
    "ExecuteTime": {
     "end_time": "2023-10-22T20:22:30.273073100Z",
     "start_time": "2023-10-22T20:22:30.264187100Z"
    }
   }
  },
  {
   "cell_type": "code",
   "execution_count": 20,
   "outputs": [],
   "source": [],
   "metadata": {
    "collapsed": false,
    "ExecuteTime": {
     "end_time": "2023-10-22T20:22:30.277551200Z",
     "start_time": "2023-10-22T20:22:30.274020100Z"
    }
   }
  }
 ],
 "metadata": {
  "kernelspec": {
   "display_name": "Python 3",
   "language": "python",
   "name": "python3"
  },
  "language_info": {
   "codemirror_mode": {
    "name": "ipython",
    "version": 2
   },
   "file_extension": ".py",
   "mimetype": "text/x-python",
   "name": "python",
   "nbconvert_exporter": "python",
   "pygments_lexer": "ipython2",
   "version": "2.7.6"
  }
 },
 "nbformat": 4,
 "nbformat_minor": 0
}
