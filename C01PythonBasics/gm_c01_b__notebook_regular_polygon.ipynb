{
 "cells": [
  {
   "cell_type": "code",
   "execution_count": null,
   "metadata": {
    "collapsed": true
   },
   "outputs": [],
   "source": [
    "## gm_c01_b_regular_polygon: coded by Kinya MIURA 230410\n",
    "# -----------------------------------------------------------------------------\n",
    "print('*** area of regular polygon ***')\n",
    "print('# -----------------------------------------------------------------------------')\n"
   ]
  },
  {
   "cell_type": "code",
   "execution_count": null,
   "outputs": [],
   "source": [
    "# -----------------------------------------------------------------------------\n",
    "print('## --- section_a: triangle and square ---')\n",
    "aa = 2  # side length\n",
    "ss = aa * (aa*3**.5/2) / 2, aa * aa  # equilateral triangle and a square\n",
    "print('aa = ', aa, 'ss = ', ss)\n"
   ],
   "metadata": {
    "collapsed": false
   }
  },
  {
   "cell_type": "code",
   "execution_count": null,
   "outputs": [],
   "source": [
    "# -----------------------------------------------------------------------------\n",
    "print(\"## --- section_b: importing items from standard module 'math' ---\")\n",
    "from math import (pi, cos, sin)  # importing items from standard module 'math'\n",
    "print('pi = ', pi, 'sin(pi/2) = ', sin(pi/2), 'cos(pi) = ', cos(pi))\n"
   ],
   "metadata": {
    "collapsed": false
   }
  },
  {
   "cell_type": "code",
   "execution_count": null,
   "outputs": [],
   "source": [
    "# -----------------------------------------------------------------------------\n",
    "print('## --- section_c: area of n-th regular polygon ---')\n",
    "rr = 2  # radius of circumscribed circle\n",
    "nn = 3  # number of sides\n",
    "th = 2 * pi / nn  # top angle\n",
    "ss_tri = rr * sin(th/2) * rr * cos(th/2)  # area of triangle\n",
    "ss = ss_tri * nn  # area of polygon\n",
    "print('rr = ', rr, 'nn = ', nn, 'ss = ', ss)\n"
   ],
   "metadata": {
    "collapsed": false
   }
  },
  {
   "cell_type": "code",
   "execution_count": null,
   "outputs": [],
   "source": [
    "# -----------------------------------------------------------------------------\n",
    "print('## --- section_d: calculating a series of polygon areas ---')\n",
    "for nn in range(3,7):\n",
    "    th = 2 * pi / nn\n",
    "    ss_tri = rr * sin(th/2) * rr * cos(th/2)\n",
    "    ss = ss_tri * nn\n",
    "    print('nn = ', nn, ',\\trr = ', rr, ',\\tss = ', ss)\n"
   ],
   "metadata": {
    "collapsed": false
   }
  },
  {
   "cell_type": "code",
   "execution_count": null,
   "outputs": [],
   "source": [],
   "metadata": {
    "collapsed": false
   }
  }
 ],
 "metadata": {
  "kernelspec": {
   "display_name": "Python 3",
   "language": "python",
   "name": "python3"
  },
  "language_info": {
   "codemirror_mode": {
    "name": "ipython",
    "version": 2
   },
   "file_extension": ".py",
   "mimetype": "text/x-python",
   "name": "python",
   "nbconvert_exporter": "python",
   "pygments_lexer": "ipython2",
   "version": "2.7.6"
  }
 },
 "nbformat": 4,
 "nbformat_minor": 0
}
