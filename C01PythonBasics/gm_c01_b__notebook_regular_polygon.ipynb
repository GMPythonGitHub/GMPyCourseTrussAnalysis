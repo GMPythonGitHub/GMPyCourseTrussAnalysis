{
 "cells": [
  {
   "cell_type": "code",
   "execution_count": 1,
   "metadata": {
    "collapsed": true,
    "ExecuteTime": {
     "end_time": "2023-10-22T05:01:02.786392Z",
     "start_time": "2023-10-22T05:01:02.777720600Z"
    }
   },
   "outputs": [
    {
     "name": "stdout",
     "output_type": "stream",
     "text": [
      "*** area of regular polygon ***\n",
      "# -----------------------------------------------------------------------------\n"
     ]
    }
   ],
   "source": [
    "## gm_c01_b_regular_polygon: coded by Kinya MIURA 230410\n",
    "# -----------------------------------------------------------------------------\n",
    "print('*** area of regular polygon ***')\n",
    "print('# -----------------------------------------------------------------------------')\n"
   ]
  },
  {
   "cell_type": "code",
   "execution_count": 2,
   "outputs": [
    {
     "name": "stdout",
     "output_type": "stream",
     "text": [
      "## --- section_a: triangle and square ---\n",
      "side =  2 area =  (1.7320508075688772, 4)\n"
     ]
    }
   ],
   "source": [
    "# -----------------------------------------------------------------------------\n",
    "print('## --- section_a: triangle and square ---')\n",
    "side = 2  # side length\n",
    "area = side * (side * 3**.5 / 2) / 2, side * side  # equilateral triangle and a square\n",
    "print('side = ', side, 'area = ', area)\n"
   ],
   "metadata": {
    "collapsed": false,
    "ExecuteTime": {
     "end_time": "2023-10-22T05:01:02.799772800Z",
     "start_time": "2023-10-22T05:01:02.791391300Z"
    }
   }
  },
  {
   "cell_type": "code",
   "execution_count": 3,
   "outputs": [
    {
     "name": "stdout",
     "output_type": "stream",
     "text": [
      "## --- section_b: importing items from standard module 'math' ---\n",
      "pi =  3.141592653589793 sin(pi/2) =  1.0 cos(pi) =  -1.0\n"
     ]
    }
   ],
   "source": [
    "# -----------------------------------------------------------------------------\n",
    "print(\"## --- section_b: importing items from standard module 'math' ---\")\n",
    "from math import (pi, cos, sin)  # importing items from standard module 'math'\n",
    "print('pi = ', pi, 'sin(pi/2) = ', sin(pi/2), 'cos(pi) = ', cos(pi))\n"
   ],
   "metadata": {
    "collapsed": false,
    "ExecuteTime": {
     "end_time": "2023-10-22T05:01:02.896126500Z",
     "start_time": "2023-10-22T05:01:02.797769800Z"
    }
   }
  },
  {
   "cell_type": "code",
   "execution_count": 4,
   "outputs": [
    {
     "name": "stdout",
     "output_type": "stream",
     "text": [
      "## --- section_c: area of n-th regular polygon ---\n",
      "radius =  2 nn =  3 area =  5.196152422706633\n"
     ]
    }
   ],
   "source": [
    "# -----------------------------------------------------------------------------\n",
    "print('## --- section_c: area of n-th regular polygon ---')\n",
    "radius = 2  # radius of circumscribed circle\n",
    "nn = 3  # number of sides\n",
    "theta = 2 * pi / nn  # top angle\n",
    "area_tri = radius * sin(theta/2) * radius * cos(theta/2)  # area of triangle\n",
    "area = area_tri * nn  # area of polygon\n",
    "print('radius = ', radius, 'nn = ', nn, 'area = ', area)\n"
   ],
   "metadata": {
    "collapsed": false,
    "ExecuteTime": {
     "end_time": "2023-10-22T05:01:02.897126300Z",
     "start_time": "2023-10-22T05:01:02.821381500Z"
    }
   }
  },
  {
   "cell_type": "code",
   "execution_count": 5,
   "outputs": [
    {
     "name": "stdout",
     "output_type": "stream",
     "text": [
      "## --- section_d: calculating a series of polygon areas ---\n",
      "nn =  3 ,\tradius =  2 ,\tarea =  5.196152422706633\n",
      "nn =  4 ,\tradius =  2 ,\tarea =  8.000000000000002\n",
      "nn =  5 ,\tradius =  2 ,\tarea =  9.510565162951536\n",
      "nn =  6 ,\tradius =  2 ,\tarea =  10.392304845413264\n"
     ]
    }
   ],
   "source": [
    "# -----------------------------------------------------------------------------\n",
    "print('## --- section_d: calculating a series of polygon areas ---')\n",
    "for nn in range(3,7):\n",
    "    theta = 2 * pi / nn\n",
    "    area_tri = radius * sin(theta/2) * radius * cos(theta/2)\n",
    "    area = area_tri * nn\n",
    "    print('nn = ', nn, ',\\tradius = ', radius, ',\\tarea = ', area)\n"
   ],
   "metadata": {
    "collapsed": false,
    "ExecuteTime": {
     "end_time": "2023-10-22T05:01:02.897126300Z",
     "start_time": "2023-10-22T05:01:02.833652900Z"
    }
   }
  },
  {
   "cell_type": "code",
   "execution_count": 5,
   "outputs": [],
   "source": [],
   "metadata": {
    "collapsed": false,
    "ExecuteTime": {
     "end_time": "2023-10-22T05:01:02.898124700Z",
     "start_time": "2023-10-22T05:01:02.848578400Z"
    }
   }
  }
 ],
 "metadata": {
  "kernelspec": {
   "display_name": "Python 3",
   "language": "python",
   "name": "python3"
  },
  "language_info": {
   "codemirror_mode": {
    "name": "ipython",
    "version": 2
   },
   "file_extension": ".py",
   "mimetype": "text/x-python",
   "name": "python",
   "nbconvert_exporter": "python",
   "pygments_lexer": "ipython2",
   "version": "2.7.6"
  }
 },
 "nbformat": 4,
 "nbformat_minor": 0
}
