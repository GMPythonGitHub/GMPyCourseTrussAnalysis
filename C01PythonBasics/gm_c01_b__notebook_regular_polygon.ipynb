{
 "cells": [
  {
   "cell_type": "code",
   "execution_count": 2,
   "metadata": {
    "collapsed": true
   },
   "outputs": [
    {
     "name": "stdout",
     "output_type": "stream",
     "text": [
      "*** area of regular polygon ***\n",
      "# -----------------------------------------------------------------------------\n"
     ]
    }
   ],
   "source": [
    "# gm_c01_b_regular_polygon: coded by Kinya MIURA 230410\n",
    "# -----------------------------------------------------------------------------\n",
    "print('*** area of regular polygon ***')\n",
    "print('# -----------------------------------------------------------------------------')\n"
   ]
  },
  {
   "cell_type": "code",
   "execution_count": 4,
   "outputs": [
    {
     "name": "stdout",
     "output_type": "stream",
     "text": [
      "## --- block_a: triangle and square --- ##\n",
      "aa =  2 ss =  (1.7320508075688772, 4)\n"
     ]
    }
   ],
   "source": [
    "# -----------------------------------------------------------------------------\n",
    "print('## --- block_a: triangle and square --- ##')\n",
    "aa = 2  # side length\n",
    "ss = aa * (aa*3**.5/2) / 2, aa * aa  # equilateral triangle and a square\n",
    "print('aa = ', aa, 'ss = ', ss)\n"
   ],
   "metadata": {
    "collapsed": false
   }
  },
  {
   "cell_type": "code",
   "execution_count": 6,
   "outputs": [
    {
     "name": "stdout",
     "output_type": "stream",
     "text": [
      "## --- block_b: importing items from standard module 'math' ---\n",
      "pi =  3.141592653589793 sin(pi/2) =  1.0 cos(pi) =  -1.0\n"
     ]
    }
   ],
   "source": [
    "# -----------------------------------------------------------------------------\n",
    "print(\"## --- block_b: importing items from standard module 'math' ---\")\n",
    "from math import (pi, cos, sin)  # importing items from standard module 'math'\n",
    "print('pi = ', pi, 'sin(pi/2) = ', sin(pi/2), 'cos(pi) = ', cos(pi))\n"
   ],
   "metadata": {
    "collapsed": false
   }
  },
  {
   "cell_type": "code",
   "execution_count": 7,
   "outputs": [
    {
     "name": "stdout",
     "output_type": "stream",
     "text": [
      "## --- block_c: area of n-th regular polygon ---\n",
      "rr =  2 nn =  3 ss =  5.196152422706633\n"
     ]
    }
   ],
   "source": [
    "# -----------------------------------------------------------------------------\n",
    "print('## --- block_c: area of n-th regular polygon ---')\n",
    "rr = 2  # radius of circumscribed circle\n",
    "nn = 3  # number of sides\n",
    "th = 2 * pi / nn  # top angle\n",
    "ss_tri = rr * sin(th/2) * rr * cos(th/2)  # area of triangle\n",
    "ss = ss_tri * nn  # area of polygon\n",
    "print('rr = ', rr, 'nn = ', nn, 'ss = ', ss)\n"
   ],
   "metadata": {
    "collapsed": false
   }
  },
  {
   "cell_type": "code",
   "execution_count": 8,
   "outputs": [
    {
     "name": "stdout",
     "output_type": "stream",
     "text": [
      "## --- block_d: calculating a series of polygon areas ---\n",
      "nn =  3 ,\trr =  2 ,\tss =  5.196152422706633\n",
      "nn =  4 ,\trr =  2 ,\tss =  8.000000000000002\n",
      "nn =  5 ,\trr =  2 ,\tss =  9.510565162951536\n",
      "nn =  6 ,\trr =  2 ,\tss =  10.392304845413264\n"
     ]
    }
   ],
   "source": [
    "# -----------------------------------------------------------------------------\n",
    "print('## --- block_d: calculating a series of polygon areas ---')\n",
    "for nn in range(3,7):\n",
    "    th = 2 * pi / nn\n",
    "    ss_tri = rr * sin(th/2) * rr * cos(th/2)\n",
    "    ss = ss_tri * nn\n",
    "    print('nn = ', nn, ',\\trr = ', rr, ',\\tss = ', ss)\n"
   ],
   "metadata": {
    "collapsed": false
   }
  },
  {
   "cell_type": "code",
   "execution_count": null,
   "outputs": [],
   "source": [],
   "metadata": {
    "collapsed": false
   }
  }
 ],
 "metadata": {
  "kernelspec": {
   "display_name": "Python 3",
   "language": "python",
   "name": "python3"
  },
  "language_info": {
   "codemirror_mode": {
    "name": "ipython",
    "version": 2
   },
   "file_extension": ".py",
   "mimetype": "text/x-python",
   "name": "python",
   "nbconvert_exporter": "python",
   "pygments_lexer": "ipython2",
   "version": "2.7.6"
  }
 },
 "nbformat": 4,
 "nbformat_minor": 0
}
